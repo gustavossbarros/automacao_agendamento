{
 "cells": [
  {
   "cell_type": "code",
   "execution_count": 7,
   "id": "c2d955a5",
   "metadata": {},
   "outputs": [],
   "source": [
    "import smtplib\n",
    "from email.mime.multipart import MIMEMultipart\n",
    "from email.mime.text import MIMEText\n",
    "\n",
    "def send_email(sender_email, password, recipient, subject, body):\n",
    "    message = MIMEMultipart()\n",
    "    message['From'] = sender_email\n",
    "    message['To'] = \", \".join(recipient)  # Junta os destinatários em uma string separada por vírgulas\n",
    "    message['Subject'] = subject\n",
    "\n",
    "    message.attach(MIMEText(body, 'plain'))\n",
    "\n",
    "    with smtplib.SMTP('smtp.gmail.com', 587) as server:\n",
    "        server.starttls()\n",
    "        server.login(sender_email, password)\n",
    "        text = message.as_string()\n",
    "        server.sendmail(sender_email, recipient, text)\n",
    "\n",
    "# Exemplo de uso:\n",
    "# send_email('carregamentopetrobarros@gmail.com', 'cebp jrpm kcxl klev', 'gustavossbarros@hotmail.com', 'Teste de envio', 'Este é um e-mail enviado com Python.')\n"
   ]
  },
  {
   "cell_type": "code",
   "execution_count": 8,
   "id": "9cf51436",
   "metadata": {},
   "outputs": [],
   "source": [
    "remetente = 'carregamentopetrobarros@gmail.com'\n",
    "senha = 'cebp jrpm kcxl klev'\n",
    "destinatario = ['gustavossbarros@hotmail.com', 'heitorssbarros@gmail.com']\n",
    "assunto = 'Novo Horario de Carregamento'\n",
    "corpo_do_email = f'''Encontrei os seguintes horários de carregamento.\n",
    "Dia e Hora: -------'''"
   ]
  },
  {
   "cell_type": "code",
   "execution_count": 9,
   "id": "c403f92b",
   "metadata": {},
   "outputs": [],
   "source": [
    "send_email(remetente, senha, destinatario, assunto, corpo_do_email)"
   ]
  },
  {
   "cell_type": "code",
   "execution_count": null,
   "id": "4e834948",
   "metadata": {},
   "outputs": [],
   "source": []
  },
  {
   "cell_type": "code",
   "execution_count": 10,
   "id": "b418212c",
   "metadata": {},
   "outputs": [],
   "source": [
    "def send_email_2():\n",
    "    message = MIMEMultipart()\n",
    "    message['From'] = remetente\n",
    "    message['To'] = \", \".join(destinatario)  # Junta os destinatários em uma string separada por vírgulas\n",
    "    message['Subject'] = assunto\n",
    "\n",
    "    message.attach(MIMEText(corpo_do_email, 'plain'))\n",
    "\n",
    "    with smtplib.SMTP('smtp.gmail.com', 587) as server:\n",
    "        server.starttls()\n",
    "        server.login(remetente, senha)\n",
    "        text = message.as_string()\n",
    "        server.sendmail(remetente, destinatario, corpo_do_email)"
   ]
  },
  {
   "cell_type": "code",
   "execution_count": 12,
   "id": "5615547e",
   "metadata": {},
   "outputs": [
    {
     "ename": "UnicodeEncodeError",
     "evalue": "'ascii' codec can't encode character '\\xe1' in position 26: ordinal not in range(128)",
     "output_type": "error",
     "traceback": [
      "\u001b[1;31m---------------------------------------------------------------------------\u001b[0m",
      "\u001b[1;31mUnicodeEncodeError\u001b[0m                        Traceback (most recent call last)",
      "Cell \u001b[1;32mIn[12], line 1\u001b[0m\n\u001b[1;32m----> 1\u001b[0m \u001b[43msend_email_2\u001b[49m\u001b[43m(\u001b[49m\u001b[43m)\u001b[49m\n",
      "Cell \u001b[1;32mIn[10], line 13\u001b[0m, in \u001b[0;36msend_email_2\u001b[1;34m()\u001b[0m\n\u001b[0;32m     11\u001b[0m server\u001b[38;5;241m.\u001b[39mlogin(remetente, senha)\n\u001b[0;32m     12\u001b[0m text \u001b[38;5;241m=\u001b[39m message\u001b[38;5;241m.\u001b[39mas_string()\n\u001b[1;32m---> 13\u001b[0m \u001b[43mserver\u001b[49m\u001b[38;5;241;43m.\u001b[39;49m\u001b[43msendmail\u001b[49m\u001b[43m(\u001b[49m\u001b[43mremetente\u001b[49m\u001b[43m,\u001b[49m\u001b[43m \u001b[49m\u001b[43mdestinatario\u001b[49m\u001b[43m,\u001b[49m\u001b[43m \u001b[49m\u001b[43mcorpo_do_email\u001b[49m\u001b[43m)\u001b[49m\n",
      "File \u001b[1;32m~\\anaconda3\\lib\\smtplib.py:875\u001b[0m, in \u001b[0;36mSMTP.sendmail\u001b[1;34m(self, from_addr, to_addrs, msg, mail_options, rcpt_options)\u001b[0m\n\u001b[0;32m    873\u001b[0m esmtp_opts \u001b[38;5;241m=\u001b[39m []\n\u001b[0;32m    874\u001b[0m \u001b[38;5;28;01mif\u001b[39;00m \u001b[38;5;28misinstance\u001b[39m(msg, \u001b[38;5;28mstr\u001b[39m):\n\u001b[1;32m--> 875\u001b[0m     msg \u001b[38;5;241m=\u001b[39m \u001b[43m_fix_eols\u001b[49m\u001b[43m(\u001b[49m\u001b[43mmsg\u001b[49m\u001b[43m)\u001b[49m\u001b[38;5;241;43m.\u001b[39;49m\u001b[43mencode\u001b[49m\u001b[43m(\u001b[49m\u001b[38;5;124;43m'\u001b[39;49m\u001b[38;5;124;43mascii\u001b[39;49m\u001b[38;5;124;43m'\u001b[39;49m\u001b[43m)\u001b[49m\n\u001b[0;32m    876\u001b[0m \u001b[38;5;28;01mif\u001b[39;00m \u001b[38;5;28mself\u001b[39m\u001b[38;5;241m.\u001b[39mdoes_esmtp:\n\u001b[0;32m    877\u001b[0m     \u001b[38;5;28;01mif\u001b[39;00m \u001b[38;5;28mself\u001b[39m\u001b[38;5;241m.\u001b[39mhas_extn(\u001b[38;5;124m'\u001b[39m\u001b[38;5;124msize\u001b[39m\u001b[38;5;124m'\u001b[39m):\n",
      "\u001b[1;31mUnicodeEncodeError\u001b[0m: 'ascii' codec can't encode character '\\xe1' in position 26: ordinal not in range(128)"
     ]
    }
   ],
   "source": [
    "send_email_2()"
   ]
  },
  {
   "cell_type": "code",
   "execution_count": null,
   "id": "c8b4792b",
   "metadata": {},
   "outputs": [],
   "source": []
  }
 ],
 "metadata": {
  "kernelspec": {
   "display_name": "Python 3 (ipykernel)",
   "language": "python",
   "name": "python3"
  },
  "language_info": {
   "codemirror_mode": {
    "name": "ipython",
    "version": 3
   },
   "file_extension": ".py",
   "mimetype": "text/x-python",
   "name": "python",
   "nbconvert_exporter": "python",
   "pygments_lexer": "ipython3",
   "version": "3.10.9"
  }
 },
 "nbformat": 4,
 "nbformat_minor": 5
}
