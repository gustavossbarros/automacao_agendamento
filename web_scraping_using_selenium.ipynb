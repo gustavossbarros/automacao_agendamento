{
 "cells": [
  {
   "cell_type": "markdown",
   "id": "a38896af",
   "metadata": {},
   "source": [
    "## Instalando Selenium"
   ]
  },
  {
   "cell_type": "code",
   "execution_count": 1,
   "id": "ae1a5e06",
   "metadata": {},
   "outputs": [],
   "source": [
    "# pip install selenium"
   ]
  },
  {
   "cell_type": "markdown",
   "id": "5b35943f",
   "metadata": {},
   "source": [
    "## Importando Bibliotecas"
   ]
  },
  {
   "cell_type": "code",
   "execution_count": 2,
   "id": "77a78692",
   "metadata": {},
   "outputs": [],
   "source": [
    "import pandas as pd\n",
    "import re\n",
    "from time import sleep\n",
    "from selenium import webdriver\n",
    "from selenium.webdriver.chrome.service import Service\n",
    "from selenium.webdriver.common.by import By"
   ]
  },
  {
   "cell_type": "markdown",
   "id": "76e7adfb",
   "metadata": {},
   "source": [
    "## Inicializando uma instância do Google Chrome"
   ]
  },
  {
   "cell_type": "code",
   "execution_count": 3,
   "id": "98a071bc",
   "metadata": {},
   "outputs": [],
   "source": [
    "service = Service()\n",
    "\n",
    "options = webdriver.ChromeOptions()\n",
    "\n",
    "driver = webdriver.Chrome(service=service, options=options)"
   ]
  },
  {
   "cell_type": "code",
   "execution_count": 4,
   "id": "311fbbd6",
   "metadata": {},
   "outputs": [],
   "source": [
    "url = 'https://books.toscrape.com/'\n",
    "\n",
    "driver.get(url)"
   ]
  },
  {
   "cell_type": "markdown",
   "id": "e0842b36",
   "metadata": {},
   "source": [
    "## Encontrando Elementos do HTML"
   ]
  },
  {
   "cell_type": "markdown",
   "id": "6e10182b",
   "metadata": {},
   "source": [
    "- find_element(By.ID, \"id\")\n",
    "- find_element(By.NAME, \"name\")\n",
    "- find_element(By.XPATH, \"xpath\")\n",
    "- find_element(By.LINK_TEXT, \"link text\")\n",
    "- find_element(By.PARTIAL_LINK_TEXT, \"partial link text\")\n",
    "- **find_element(By.TAG_NAME, \"tag name\")**\n",
    "- **find_element(By.CLASS_NAME, \"class name\")**\n",
    "- find_element(By.CSS_SELECTOR, \"css selector\")"
   ]
  },
  {
   "cell_type": "markdown",
   "id": "7bd82346",
   "metadata": {},
   "source": [
    "### Títulos dos livros"
   ]
  },
  {
   "cell_type": "code",
   "execution_count": 5,
   "id": "7a47c090",
   "metadata": {},
   "outputs": [
    {
     "data": {
      "text/plain": [
       "'A Light in the Attic'"
      ]
     },
     "execution_count": 5,
     "metadata": {},
     "output_type": "execute_result"
    }
   ],
   "source": [
    "driver.find_elements(By.TAG_NAME, \"h3\")[0].find_element(By.TAG_NAME, \"a\").get_attribute('title')"
   ]
  },
  {
   "cell_type": "code",
   "execution_count": 6,
   "id": "d6933b9c",
   "metadata": {},
   "outputs": [],
   "source": [
    "lista_elementos_titulos = driver.find_elements(By.TAG_NAME, \"h3\")"
   ]
  },
  {
   "cell_type": "code",
   "execution_count": 7,
   "id": "37a06e08",
   "metadata": {},
   "outputs": [],
   "source": [
    "lista_titulos = []\n",
    "\n",
    "for i in range(len(lista_elementos_titulos)):\n",
    "    lista_titulos.append(lista_elementos_titulos[i].find_element(By.TAG_NAME, \"a\").get_attribute('title'))"
   ]
  },
  {
   "cell_type": "code",
   "execution_count": 8,
   "id": "780024ce",
   "metadata": {},
   "outputs": [
    {
     "data": {
      "text/plain": [
       "['A Light in the Attic',\n",
       " 'Tipping the Velvet',\n",
       " 'Soumission',\n",
       " 'Sharp Objects',\n",
       " 'Sapiens: A Brief History of Humankind',\n",
       " 'The Requiem Red',\n",
       " 'The Dirty Little Secrets of Getting Your Dream Job',\n",
       " 'The Coming Woman: A Novel Based on the Life of the Infamous Feminist, Victoria Woodhull',\n",
       " 'The Boys in the Boat: Nine Americans and Their Epic Quest for Gold at the 1936 Berlin Olympics',\n",
       " 'The Black Maria',\n",
       " 'Starving Hearts (Triangular Trade Trilogy, #1)',\n",
       " \"Shakespeare's Sonnets\",\n",
       " 'Set Me Free',\n",
       " \"Scott Pilgrim's Precious Little Life (Scott Pilgrim #1)\",\n",
       " 'Rip it Up and Start Again',\n",
       " 'Our Band Could Be Your Life: Scenes from the American Indie Underground, 1981-1991',\n",
       " 'Olio',\n",
       " 'Mesaerion: The Best Science Fiction Stories 1800-1849',\n",
       " 'Libertarianism for Beginners',\n",
       " \"It's Only the Himalayas\"]"
      ]
     },
     "execution_count": 8,
     "metadata": {},
     "output_type": "execute_result"
    }
   ],
   "source": [
    "lista_titulos"
   ]
  },
  {
   "cell_type": "markdown",
   "id": "2533fa0c",
   "metadata": {},
   "source": [
    "### Preço dos livros"
   ]
  },
  {
   "cell_type": "code",
   "execution_count": 9,
   "id": "73afcde9",
   "metadata": {},
   "outputs": [],
   "source": [
    "lista_elemento_preco = driver.find_elements(By.CLASS_NAME, \"price_color\")"
   ]
  },
  {
   "cell_type": "code",
   "execution_count": 10,
   "id": "f0800abb",
   "metadata": {},
   "outputs": [],
   "source": [
    "lista_preco = []\n",
    "\n",
    "for i in range(len(lista_elemento_preco)):\n",
    "    lista_preco.append(lista_elemento_preco[i].text)"
   ]
  },
  {
   "cell_type": "code",
   "execution_count": 11,
   "id": "957b9d80",
   "metadata": {},
   "outputs": [
    {
     "data": {
      "text/plain": [
       "['£51.77',\n",
       " '£53.74',\n",
       " '£50.10',\n",
       " '£47.82',\n",
       " '£54.23',\n",
       " '£22.65',\n",
       " '£33.34',\n",
       " '£17.93',\n",
       " '£22.60',\n",
       " '£52.15',\n",
       " '£13.99',\n",
       " '£20.66',\n",
       " '£17.46',\n",
       " '£52.29',\n",
       " '£35.02',\n",
       " '£57.25',\n",
       " '£23.88',\n",
       " '£37.59',\n",
       " '£51.33',\n",
       " '£45.17']"
      ]
     },
     "execution_count": 11,
     "metadata": {},
     "output_type": "execute_result"
    }
   ],
   "source": [
    "lista_preco"
   ]
  },
  {
   "cell_type": "markdown",
   "id": "62e55f9d",
   "metadata": {},
   "source": [
    "### Quantidade em Estoque"
   ]
  },
  {
   "cell_type": "code",
   "execution_count": 12,
   "id": "8e957fa9",
   "metadata": {},
   "outputs": [],
   "source": [
    "lista_elementos_titulos[0].find_element(By.TAG_NAME,'a').click()"
   ]
  },
  {
   "cell_type": "code",
   "execution_count": 13,
   "id": "39086685",
   "metadata": {},
   "outputs": [
    {
     "data": {
      "text/plain": [
       "'In stock (22 available)'"
      ]
     },
     "execution_count": 13,
     "metadata": {},
     "output_type": "execute_result"
    }
   ],
   "source": [
    "driver.find_element(By.CLASS_NAME, 'instock').text"
   ]
  },
  {
   "cell_type": "code",
   "execution_count": 18,
   "id": "3842df33",
   "metadata": {},
   "outputs": [],
   "source": [
    "driver.back()"
   ]
  },
  {
   "cell_type": "code",
   "execution_count": 15,
   "id": "f6ecb898",
   "metadata": {},
   "outputs": [],
   "source": [
    "lista_clicks = []\n",
    "\n",
    "for i in range(len(lista_elementos_titulos)):\n",
    "    lista_clicks.append(lista_elementos_titulos[i].find_element(By.TAG_NAME, \"a\"))"
   ]
  },
  {
   "cell_type": "code",
   "execution_count": 16,
   "id": "dd5f2689",
   "metadata": {},
   "outputs": [],
   "source": [
    "# lista_clicks[1].click()"
   ]
  },
  {
   "cell_type": "code",
   "execution_count": 19,
   "id": "8506ab4d",
   "metadata": {},
   "outputs": [],
   "source": [
    "lista_qtd = []\n",
    "\n",
    "for link in lista_clicks:\n",
    "        link.click()\n",
    "        \n",
    "        lista_qtd.append(driver.find_element(By.CLASS_NAME, 'instock').text)\n",
    "        \n",
    "        driver.back()"
   ]
  },
  {
   "cell_type": "code",
   "execution_count": 23,
   "id": "1e8b48a7",
   "metadata": {
    "collapsed": true
   },
   "outputs": [
    {
     "data": {
      "text/plain": [
       "['In stock (22 available)',\n",
       " 'In stock (20 available)',\n",
       " 'In stock (20 available)',\n",
       " 'In stock (20 available)',\n",
       " 'In stock (20 available)',\n",
       " 'In stock (19 available)',\n",
       " 'In stock (19 available)',\n",
       " 'In stock (19 available)',\n",
       " 'In stock (19 available)',\n",
       " 'In stock (19 available)',\n",
       " 'In stock (19 available)',\n",
       " 'In stock (19 available)',\n",
       " 'In stock (19 available)',\n",
       " 'In stock (19 available)',\n",
       " 'In stock (19 available)',\n",
       " 'In stock (19 available)',\n",
       " 'In stock (19 available)',\n",
       " 'In stock (19 available)',\n",
       " 'In stock (19 available)',\n",
       " 'In stock (19 available)']"
      ]
     },
     "execution_count": 23,
     "metadata": {},
     "output_type": "execute_result"
    }
   ],
   "source": [
    "lista_qtd"
   ]
  },
  {
   "cell_type": "code",
   "execution_count": 24,
   "id": "8df0756e",
   "metadata": {},
   "outputs": [],
   "source": [
    "lista_qtd_regex = []\n",
    "\n",
    "for i in range(len(lista_qtd)):\n",
    "    lista_qtd_regex.append(int(re.findall('[0-9]+', lista_qtd[i])[0]))"
   ]
  },
  {
   "cell_type": "code",
   "execution_count": 25,
   "id": "21778af8",
   "metadata": {
    "collapsed": true
   },
   "outputs": [
    {
     "data": {
      "text/plain": [
       "[22,\n",
       " 20,\n",
       " 20,\n",
       " 20,\n",
       " 20,\n",
       " 19,\n",
       " 19,\n",
       " 19,\n",
       " 19,\n",
       " 19,\n",
       " 19,\n",
       " 19,\n",
       " 19,\n",
       " 19,\n",
       " 19,\n",
       " 19,\n",
       " 19,\n",
       " 19,\n",
       " 19,\n",
       " 19]"
      ]
     },
     "execution_count": 25,
     "metadata": {},
     "output_type": "execute_result"
    }
   ],
   "source": [
    "lista_qtd_regex"
   ]
  },
  {
   "cell_type": "markdown",
   "id": "76b0d634",
   "metadata": {},
   "source": [
    "## Tabulando os dados"
   ]
  },
  {
   "cell_type": "code",
   "execution_count": 26,
   "id": "11fcd5fd",
   "metadata": {},
   "outputs": [],
   "source": [
    "data = {'titulo': lista_titulos, 'preco': lista_preco, 'qtd_disponivel': lista_qtd_regex}\n",
    "\n",
    "df = pd.DataFrame(data=data)"
   ]
  },
  {
   "cell_type": "code",
   "execution_count": 27,
   "id": "6b751dfd",
   "metadata": {},
   "outputs": [
    {
     "data": {
      "text/html": [
       "<div>\n",
       "<style scoped>\n",
       "    .dataframe tbody tr th:only-of-type {\n",
       "        vertical-align: middle;\n",
       "    }\n",
       "\n",
       "    .dataframe tbody tr th {\n",
       "        vertical-align: top;\n",
       "    }\n",
       "\n",
       "    .dataframe thead th {\n",
       "        text-align: right;\n",
       "    }\n",
       "</style>\n",
       "<table border=\"1\" class=\"dataframe\">\n",
       "  <thead>\n",
       "    <tr style=\"text-align: right;\">\n",
       "      <th></th>\n",
       "      <th>titulo</th>\n",
       "      <th>preco</th>\n",
       "      <th>qtd_disponivel</th>\n",
       "    </tr>\n",
       "  </thead>\n",
       "  <tbody>\n",
       "    <tr>\n",
       "      <th>0</th>\n",
       "      <td>A Light in the Attic</td>\n",
       "      <td>£51.77</td>\n",
       "      <td>22</td>\n",
       "    </tr>\n",
       "    <tr>\n",
       "      <th>1</th>\n",
       "      <td>Tipping the Velvet</td>\n",
       "      <td>£53.74</td>\n",
       "      <td>20</td>\n",
       "    </tr>\n",
       "    <tr>\n",
       "      <th>2</th>\n",
       "      <td>Soumission</td>\n",
       "      <td>£50.10</td>\n",
       "      <td>20</td>\n",
       "    </tr>\n",
       "    <tr>\n",
       "      <th>3</th>\n",
       "      <td>Sharp Objects</td>\n",
       "      <td>£47.82</td>\n",
       "      <td>20</td>\n",
       "    </tr>\n",
       "    <tr>\n",
       "      <th>4</th>\n",
       "      <td>Sapiens: A Brief History of Humankind</td>\n",
       "      <td>£54.23</td>\n",
       "      <td>20</td>\n",
       "    </tr>\n",
       "    <tr>\n",
       "      <th>5</th>\n",
       "      <td>The Requiem Red</td>\n",
       "      <td>£22.65</td>\n",
       "      <td>19</td>\n",
       "    </tr>\n",
       "    <tr>\n",
       "      <th>6</th>\n",
       "      <td>The Dirty Little Secrets of Getting Your Dream...</td>\n",
       "      <td>£33.34</td>\n",
       "      <td>19</td>\n",
       "    </tr>\n",
       "    <tr>\n",
       "      <th>7</th>\n",
       "      <td>The Coming Woman: A Novel Based on the Life of...</td>\n",
       "      <td>£17.93</td>\n",
       "      <td>19</td>\n",
       "    </tr>\n",
       "    <tr>\n",
       "      <th>8</th>\n",
       "      <td>The Boys in the Boat: Nine Americans and Their...</td>\n",
       "      <td>£22.60</td>\n",
       "      <td>19</td>\n",
       "    </tr>\n",
       "    <tr>\n",
       "      <th>9</th>\n",
       "      <td>The Black Maria</td>\n",
       "      <td>£52.15</td>\n",
       "      <td>19</td>\n",
       "    </tr>\n",
       "    <tr>\n",
       "      <th>10</th>\n",
       "      <td>Starving Hearts (Triangular Trade Trilogy, #1)</td>\n",
       "      <td>£13.99</td>\n",
       "      <td>19</td>\n",
       "    </tr>\n",
       "    <tr>\n",
       "      <th>11</th>\n",
       "      <td>Shakespeare's Sonnets</td>\n",
       "      <td>£20.66</td>\n",
       "      <td>19</td>\n",
       "    </tr>\n",
       "    <tr>\n",
       "      <th>12</th>\n",
       "      <td>Set Me Free</td>\n",
       "      <td>£17.46</td>\n",
       "      <td>19</td>\n",
       "    </tr>\n",
       "    <tr>\n",
       "      <th>13</th>\n",
       "      <td>Scott Pilgrim's Precious Little Life (Scott Pi...</td>\n",
       "      <td>£52.29</td>\n",
       "      <td>19</td>\n",
       "    </tr>\n",
       "    <tr>\n",
       "      <th>14</th>\n",
       "      <td>Rip it Up and Start Again</td>\n",
       "      <td>£35.02</td>\n",
       "      <td>19</td>\n",
       "    </tr>\n",
       "    <tr>\n",
       "      <th>15</th>\n",
       "      <td>Our Band Could Be Your Life: Scenes from the A...</td>\n",
       "      <td>£57.25</td>\n",
       "      <td>19</td>\n",
       "    </tr>\n",
       "    <tr>\n",
       "      <th>16</th>\n",
       "      <td>Olio</td>\n",
       "      <td>£23.88</td>\n",
       "      <td>19</td>\n",
       "    </tr>\n",
       "    <tr>\n",
       "      <th>17</th>\n",
       "      <td>Mesaerion: The Best Science Fiction Stories 18...</td>\n",
       "      <td>£37.59</td>\n",
       "      <td>19</td>\n",
       "    </tr>\n",
       "    <tr>\n",
       "      <th>18</th>\n",
       "      <td>Libertarianism for Beginners</td>\n",
       "      <td>£51.33</td>\n",
       "      <td>19</td>\n",
       "    </tr>\n",
       "    <tr>\n",
       "      <th>19</th>\n",
       "      <td>It's Only the Himalayas</td>\n",
       "      <td>£45.17</td>\n",
       "      <td>19</td>\n",
       "    </tr>\n",
       "  </tbody>\n",
       "</table>\n",
       "</div>"
      ],
      "text/plain": [
       "                                               titulo   preco  qtd_disponivel\n",
       "0                                A Light in the Attic  £51.77              22\n",
       "1                                  Tipping the Velvet  £53.74              20\n",
       "2                                          Soumission  £50.10              20\n",
       "3                                       Sharp Objects  £47.82              20\n",
       "4               Sapiens: A Brief History of Humankind  £54.23              20\n",
       "5                                     The Requiem Red  £22.65              19\n",
       "6   The Dirty Little Secrets of Getting Your Dream...  £33.34              19\n",
       "7   The Coming Woman: A Novel Based on the Life of...  £17.93              19\n",
       "8   The Boys in the Boat: Nine Americans and Their...  £22.60              19\n",
       "9                                     The Black Maria  £52.15              19\n",
       "10     Starving Hearts (Triangular Trade Trilogy, #1)  £13.99              19\n",
       "11                              Shakespeare's Sonnets  £20.66              19\n",
       "12                                        Set Me Free  £17.46              19\n",
       "13  Scott Pilgrim's Precious Little Life (Scott Pi...  £52.29              19\n",
       "14                          Rip it Up and Start Again  £35.02              19\n",
       "15  Our Band Could Be Your Life: Scenes from the A...  £57.25              19\n",
       "16                                               Olio  £23.88              19\n",
       "17  Mesaerion: The Best Science Fiction Stories 18...  £37.59              19\n",
       "18                       Libertarianism for Beginners  £51.33              19\n",
       "19                            It's Only the Himalayas  £45.17              19"
      ]
     },
     "execution_count": 27,
     "metadata": {},
     "output_type": "execute_result"
    }
   ],
   "source": [
    "df"
   ]
  },
  {
   "cell_type": "code",
   "execution_count": null,
   "id": "01fd73ab",
   "metadata": {},
   "outputs": [],
   "source": []
  },
  {
   "cell_type": "code",
   "execution_count": null,
   "id": "4a752c4c",
   "metadata": {},
   "outputs": [],
   "source": []
  }
 ],
 "metadata": {
  "kernelspec": {
   "display_name": "Python 3 (ipykernel)",
   "language": "python",
   "name": "python3"
  },
  "language_info": {
   "codemirror_mode": {
    "name": "ipython",
    "version": 3
   },
   "file_extension": ".py",
   "mimetype": "text/x-python",
   "name": "python",
   "nbconvert_exporter": "python",
   "pygments_lexer": "ipython3",
   "version": "3.10.9"
  }
 },
 "nbformat": 4,
 "nbformat_minor": 5
}
